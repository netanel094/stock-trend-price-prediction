{
 "cells": [
  {
   "cell_type": "code",
   "execution_count": 1,
   "id": "d0036bc9",
   "metadata": {},
   "outputs": [],
   "source": [
    "import pandas as pd\n",
    "import numpy as np\n",
    "import re\n",
    "import seaborn as sns"
   ]
  },
  {
   "cell_type": "code",
   "execution_count": 2,
   "id": "6f3f42df",
   "metadata": {},
   "outputs": [],
   "source": [
    "df = pd.read_csv(\"Complete_df.csv\")\n",
    "df.drop('Unnamed: 0', axis = 1, inplace = True)\n",
    "df = df.rename(columns={'Held_By_Institusion':'Held_By_Institusion(%)', 'Perf_Week':'Perf_Week(%)','Perf_Month':'Perf_Month(%)', 'Perf_Quarter':'Perf_Quarter(%)','Perf_Half_Year':'Perf_Half_Year(%)','Perf_Year':'Perf_Year(%)'})"
   ]
  },
  {
   "cell_type": "code",
   "execution_count": 3,
   "id": "ec8d4ef0",
   "metadata": {},
   "outputs": [
    {
     "name": "stdout",
     "output_type": "stream",
     "text": [
      "<class 'pandas.core.frame.DataFrame'>\n",
      "RangeIndex: 5399 entries, 0 to 5398\n",
      "Data columns (total 18 columns):\n",
      " #   Column                     Non-Null Count  Dtype  \n",
      "---  ------                     --------------  -----  \n",
      " 0   Symbols                    5399 non-null   object \n",
      " 1   Avg_50                     3785 non-null   object \n",
      " 2   Avg_200                    3785 non-null   object \n",
      " 3   Week_52_High               3811 non-null   object \n",
      " 4   Week_52_Low                3811 non-null   object \n",
      " 5   Vol_Avg_10_Day             3762 non-null   object \n",
      " 6   Vol_Avg_3_Months           3779 non-null   object \n",
      " 7   Held_By_Institusion(%)     3409 non-null   object \n",
      " 8   Perf_Week(%)               3186 non-null   object \n",
      " 9   Perf_Month(%)              3186 non-null   object \n",
      " 10  Perf_Quarter(%)            3186 non-null   object \n",
      " 11  Perf_Half_Year(%)          3186 non-null   object \n",
      " 12  Perf_Year(%)               3186 non-null   object \n",
      " 13  Analyst_Mean_Target_Price  3186 non-null   object \n",
      " 14  Current_Stock_Price        3186 non-null   float64\n",
      " 15  Last_Q_Net                 2582 non-null   object \n",
      " 16  Prev_Q_Net                 2576 non-null   object \n",
      " 17  Sector                     3647 non-null   object \n",
      "dtypes: float64(1), object(17)\n",
      "memory usage: 759.4+ KB\n"
     ]
    }
   ],
   "source": [
    "df.info()"
   ]
  },
  {
   "cell_type": "code",
   "execution_count": 4,
   "id": "34df9d00",
   "metadata": {},
   "outputs": [],
   "source": [
    "df['Vol_Avg_10_Day'] = df['Vol_Avg_10_Day'].astype(str)\n",
    "df['Vol_Avg_3_Months'] = df['Vol_Avg_3_Months'].astype(str)"
   ]
  },
  {
   "cell_type": "code",
   "execution_count": 5,
   "id": "7430d247",
   "metadata": {},
   "outputs": [],
   "source": [
    "# replace all chars: '%' ','\n",
    "\n",
    "df.replace({'%':'', ',':''},regex=True, inplace=True)"
   ]
  },
  {
   "cell_type": "code",
   "execution_count": 6,
   "id": "6863e331",
   "metadata": {},
   "outputs": [],
   "source": [
    "# we want to take care on k(thousnd) and m(milions)\n",
    "#Vol_Avg_10_Day:\n",
    "\n",
    "for index in range(5399):\n",
    "    if(\"k\" in df.iloc[index,5]):\n",
    "        df.iloc[index,5] = float(df.iloc[index,5].split('k')[0])*1000\n",
    "    elif(\"M\" in df.iloc[index,5]):\n",
    "        df.iloc[index,5] = float(df.iloc[index,5].split('M')[0])*1000000"
   ]
  },
  {
   "cell_type": "code",
   "execution_count": 7,
   "id": "35de6e05",
   "metadata": {},
   "outputs": [],
   "source": [
    "#Vol_Avg_3_Months:\n",
    "\n",
    "for index in range(5399):\n",
    "    if(\"k\" in df.iloc[index,6]):\n",
    "        df.iloc[index,6] = float(df.iloc[index,6].split('k')[0])*1000\n",
    "    elif(\"M\" in df.iloc[index,6]):\n",
    "        df.iloc[index,6] = float(df.iloc[index,6].split('M')[0])*1000000"
   ]
  },
  {
   "cell_type": "code",
   "execution_count": 8,
   "id": "56eba55c",
   "metadata": {},
   "outputs": [],
   "source": [
    "df[df == '-'] = np.nan"
   ]
  },
  {
   "cell_type": "code",
   "execution_count": 9,
   "id": "bedf476b",
   "metadata": {},
   "outputs": [],
   "source": [
    "cols = ['Held_By_Institusion(%)' ,'Perf_Week(%)', 'Perf_Month(%)', 'Perf_Quarter(%)','Perf_Half_Year(%)', 'Perf_Year(%)']\n"
   ]
  },
  {
   "cell_type": "code",
   "execution_count": 10,
   "id": "8ddb3a85",
   "metadata": {},
   "outputs": [],
   "source": [
    "df['Avg_50'] = df['Avg_50'].astype(float)\n",
    "df['Avg_200'] = df['Avg_200'].astype(float)\n",
    "df['Held_By_Institusion(%)'] = df['Held_By_Institusion(%)'].astype(float)\n",
    "df['Perf_Week(%)'] = df['Perf_Week(%)'].astype(float)\n",
    "df['Perf_Month(%)'] = df['Perf_Month(%)'].astype(float)\n",
    "df['Perf_Quarter(%)'] = df['Perf_Quarter(%)'].astype(float)\n",
    "df['Perf_Half_Year(%)'] = df['Perf_Half_Year(%)'].astype(float)\n",
    "df['Perf_Year(%)'] = df['Perf_Year(%)'].astype(float)\n",
    "df['Week_52_High'] = df['Week_52_High'].astype(float)\n",
    "df['Week_52_Low'] = df['Week_52_Low'].astype(float)\n",
    "df['Vol_Avg_10_Day'] = df['Vol_Avg_10_Day'].astype(float)\n",
    "df['Vol_Avg_3_Months'] = df['Vol_Avg_3_Months'].astype(float)\n",
    "df['Analyst_Mean_Target_Price'] = df['Analyst_Mean_Target_Price'].astype(float)\n",
    "df['Current_Stock_Price'] = df['Current_Stock_Price'].astype(float)\n",
    "df['Last_Q_Net'] = df['Last_Q_Net'].astype(float)\n",
    "df['Prev_Q_Net'] = df['Prev_Q_Net'].astype(float)"
   ]
  },
  {
   "cell_type": "code",
   "execution_count": 11,
   "id": "bc8889a5",
   "metadata": {},
   "outputs": [],
   "source": [
    "symbols = df['Symbols']\n",
    "df.drop('Symbols', axis=1, inplace=True)"
   ]
  },
  {
   "cell_type": "code",
   "execution_count": 12,
   "id": "9b4d067c",
   "metadata": {},
   "outputs": [],
   "source": [
    "# remove rows with nan in all cols\n",
    "df.dropna(how = 'all', inplace = True)"
   ]
  },
  {
   "cell_type": "code",
   "execution_count": 13,
   "id": "8b0c4e20",
   "metadata": {},
   "outputs": [
    {
     "name": "stdout",
     "output_type": "stream",
     "text": [
      "<class 'pandas.core.frame.DataFrame'>\n",
      "Int64Index: 3820 entries, 0 to 5398\n",
      "Data columns (total 17 columns):\n",
      " #   Column                     Non-Null Count  Dtype  \n",
      "---  ------                     --------------  -----  \n",
      " 0   Avg_50                     3785 non-null   float64\n",
      " 1   Avg_200                    3785 non-null   float64\n",
      " 2   Week_52_High               3811 non-null   float64\n",
      " 3   Week_52_Low                3811 non-null   float64\n",
      " 4   Vol_Avg_10_Day             3762 non-null   float64\n",
      " 5   Vol_Avg_3_Months           3779 non-null   float64\n",
      " 6   Held_By_Institusion(%)     3409 non-null   float64\n",
      " 7   Perf_Week(%)               3183 non-null   float64\n",
      " 8   Perf_Month(%)              3163 non-null   float64\n",
      " 9   Perf_Quarter(%)            3078 non-null   float64\n",
      " 10  Perf_Half_Year(%)          2982 non-null   float64\n",
      " 11  Perf_Year(%)               2692 non-null   float64\n",
      " 12  Analyst_Mean_Target_Price  2447 non-null   float64\n",
      " 13  Current_Stock_Price        3186 non-null   float64\n",
      " 14  Last_Q_Net                 2582 non-null   float64\n",
      " 15  Prev_Q_Net                 2576 non-null   float64\n",
      " 16  Sector                     3647 non-null   object \n",
      "dtypes: float64(16), object(1)\n",
      "memory usage: 537.2+ KB\n"
     ]
    }
   ],
   "source": [
    "df.info()"
   ]
  },
  {
   "cell_type": "code",
   "execution_count": 14,
   "id": "0005739d",
   "metadata": {},
   "outputs": [
    {
     "name": "stdout",
     "output_type": "stream",
     "text": [
      "<class 'pandas.core.frame.DataFrame'>\n",
      "Int64Index: 3820 entries, 0 to 5398\n",
      "Data columns (total 17 columns):\n",
      " #   Column                     Non-Null Count  Dtype  \n",
      "---  ------                     --------------  -----  \n",
      " 0   Avg_50                     3820 non-null   float64\n",
      " 1   Avg_200                    3820 non-null   float64\n",
      " 2   Week_52_High               3820 non-null   float64\n",
      " 3   Week_52_Low                3820 non-null   float64\n",
      " 4   Vol_Avg_10_Day             3820 non-null   float64\n",
      " 5   Vol_Avg_3_Months           3820 non-null   float64\n",
      " 6   Held_By_Institusion(%)     3820 non-null   float64\n",
      " 7   Perf_Week(%)               3820 non-null   float64\n",
      " 8   Perf_Month(%)              3820 non-null   float64\n",
      " 9   Perf_Quarter(%)            3820 non-null   float64\n",
      " 10  Perf_Half_Year(%)          3820 non-null   float64\n",
      " 11  Perf_Year(%)               3820 non-null   float64\n",
      " 12  Analyst_Mean_Target_Price  3820 non-null   float64\n",
      " 13  Current_Stock_Price        3820 non-null   float64\n",
      " 14  Last_Q_Net                 3820 non-null   float64\n",
      " 15  Prev_Q_Net                 3820 non-null   float64\n",
      " 16  Sector                     3647 non-null   object \n",
      "dtypes: float64(16), object(1)\n",
      "memory usage: 537.2+ KB\n"
     ]
    }
   ],
   "source": [
    "\n",
    "# fill all nan cells in median \n",
    "df.fillna(df.median().round(2), inplace = True)\n",
    "\n",
    "# devide all cols in 100\n",
    "df[cols] = df[cols].div(100)\n",
    "df.info()"
   ]
  },
  {
   "cell_type": "code",
   "execution_count": 15,
   "id": "c9bab879",
   "metadata": {},
   "outputs": [],
   "source": [
    "df['Sector'].fillna('unknown', inplace = True)\n",
    "#We have ' ' as well so we replacing everything to unknown\n",
    "df['Sector'].replace('', 'unknown', inplace = True)"
   ]
  },
  {
   "cell_type": "code",
   "execution_count": 16,
   "id": "3e4a32f3",
   "metadata": {},
   "outputs": [
    {
     "name": "stdout",
     "output_type": "stream",
     "text": [
      "<class 'pandas.core.frame.DataFrame'>\n",
      "Int64Index: 3820 entries, 0 to 5398\n",
      "Data columns (total 17 columns):\n",
      " #   Column                     Non-Null Count  Dtype  \n",
      "---  ------                     --------------  -----  \n",
      " 0   Avg_50                     3820 non-null   float64\n",
      " 1   Avg_200                    3820 non-null   float64\n",
      " 2   Week_52_High               3820 non-null   float64\n",
      " 3   Week_52_Low                3820 non-null   float64\n",
      " 4   Vol_Avg_10_Day             3820 non-null   float64\n",
      " 5   Vol_Avg_3_Months           3820 non-null   float64\n",
      " 6   Held_By_Institusion(%)     3820 non-null   float64\n",
      " 7   Perf_Week(%)               3820 non-null   float64\n",
      " 8   Perf_Month(%)              3820 non-null   float64\n",
      " 9   Perf_Quarter(%)            3820 non-null   float64\n",
      " 10  Perf_Half_Year(%)          3820 non-null   float64\n",
      " 11  Perf_Year(%)               3820 non-null   float64\n",
      " 12  Analyst_Mean_Target_Price  3820 non-null   float64\n",
      " 13  Current_Stock_Price        3820 non-null   float64\n",
      " 14  Last_Q_Net                 3820 non-null   float64\n",
      " 15  Prev_Q_Net                 3820 non-null   float64\n",
      " 16  Sector                     3820 non-null   object \n",
      "dtypes: float64(16), object(1)\n",
      "memory usage: 537.2+ KB\n"
     ]
    }
   ],
   "source": [
    "df.info()"
   ]
  },
  {
   "cell_type": "code",
   "execution_count": 17,
   "id": "8bb429c9",
   "metadata": {},
   "outputs": [],
   "source": [
    "df['Symbol'] = symbols"
   ]
  },
  {
   "cell_type": "code",
   "execution_count": 18,
   "id": "327f578e",
   "metadata": {},
   "outputs": [],
   "source": [
    "# We read in the internet that this is an important indicator if the price of the stock will grow or not!\n",
    "df['Current_Stock_Price/Avg_50'] = df['Current_Stock_Price'] / df['Avg_50'] "
   ]
  },
  {
   "cell_type": "code",
   "execution_count": 19,
   "id": "ad143b37",
   "metadata": {},
   "outputs": [],
   "source": [
    "df.to_csv(\"df_after_cleaning.csv\", index = False)"
   ]
  }
 ],
 "metadata": {
  "kernelspec": {
   "display_name": "Python 3",
   "language": "python",
   "name": "python3"
  },
  "language_info": {
   "codemirror_mode": {
    "name": "ipython",
    "version": 3
   },
   "file_extension": ".py",
   "mimetype": "text/x-python",
   "name": "python",
   "nbconvert_exporter": "python",
   "pygments_lexer": "ipython3",
   "version": "3.8.8"
  }
 },
 "nbformat": 4,
 "nbformat_minor": 5
}
