{
 "cells": [
  {
   "cell_type": "code",
   "execution_count": null,
   "id": "c88cd922",
   "metadata": {},
   "outputs": [],
   "source": [
    "import os    \n",
    "import numpy as np\n",
    "import pandas as pd\n",
    "from bs4 import BeautifulSoup\n",
    "import requests\n",
    "from selenium import webdriver\n",
    "from selenium.webdriver.common.keys import Keys\n",
    "from selenium.webdriver.support import expected_conditions as EC\n",
    "from selenium.webdriver.common.by import By\n",
    "from selenium.webdriver.support.wait import WebDriverWait\n",
    "import time\n",
    "import re"
   ]
  },
  {
   "cell_type": "code",
   "execution_count": null,
   "id": "e596dd4c",
   "metadata": {},
   "outputs": [],
   "source": [
    "driver = webdriver.Chrome()"
   ]
  },
  {
   "cell_type": "code",
   "execution_count": null,
   "id": "496398ee",
   "metadata": {},
   "outputs": [],
   "source": [
    "df=pd.read_csv('After_Eda.csv')\n",
    "Updated_Symbols=df['Symbol'].unique().tolist()\n",
    "Updated_Symbols"
   ]
  },
  {
   "cell_type": "code",
   "execution_count": null,
   "id": "7c8f4fbc",
   "metadata": {},
   "outputs": [],
   "source": [
    "Updated_Price1 = []\n",
    "user_agent = {'User-agent': 'Mozilla/5.0'}\n",
    "url1 = 'https://finance.yahoo.com/quote/'\n",
    "url2='/history?period1=1641945600&period2=1642118400&interval=1wk&filter=history&frequency=1wk&includeAdjustedClose=true'\n",
    "for symbol in Updated_Symbols:\n",
    "    url = url1 + symbol + url2\n",
    "    try:\n",
    "        driver.get(url)\n",
    "        time.sleep(1.5)\n",
    "        try:\n",
    "            price=driver.find_element(By.XPATH,'//*[@id=\"Col1-1-HistoricalDataTable-Proxy\"]/section/div[2]/table/tbody/tr/td[5]/span').text\n",
    "            Updated_Price1.append(price)\n",
    "        except:\n",
    "            Updated_Price1.append(np.nan)\n",
    "        print(symbol,price)\n",
    "    except:\n",
    "        driver.refresh()\n",
    "        try:\n",
    "            price=driver.find_element(By.XPATH,'//*[@id=\"Col1-1-HistoricalDataTable-Proxy\"]/section/div[2]/table/tbody/tr/td[5]/span').text\n",
    "            Updated_Price1.append(price)\n",
    "        except:\n",
    "            Updated_Price1.append(np.nan)\n",
    "        print(symbol,price)"
   ]
  },
  {
   "cell_type": "code",
   "execution_count": null,
   "id": "b228cc8c",
   "metadata": {},
   "outputs": [],
   "source": [
    "df['Updated_Price(10/1-14/1)']=Updated_Price1\n",
    "df.to_csv('for_ml.csv',index=False)"
   ]
  },
  {
   "cell_type": "code",
   "execution_count": null,
   "id": "2ef9249e",
   "metadata": {},
   "outputs": [],
   "source": []
  }
 ],
 "metadata": {
  "kernelspec": {
   "display_name": "Python 3",
   "language": "python",
   "name": "python3"
  },
  "language_info": {
   "codemirror_mode": {
    "name": "ipython",
    "version": 3
   },
   "file_extension": ".py",
   "mimetype": "text/x-python",
   "name": "python",
   "nbconvert_exporter": "python",
   "pygments_lexer": "ipython3",
   "version": "3.8.8"
  }
 },
 "nbformat": 4,
 "nbformat_minor": 5
}
